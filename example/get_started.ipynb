{
 "cells": [
  {
   "cell_type": "markdown",
   "metadata": {},
   "source": [
    "# Get Started\n",
    "\n",
    "Install the NebulaGrpah Python client:"
   ]
  },
  {
   "cell_type": "code",
   "execution_count": null,
   "metadata": {},
   "outputs": [],
   "source": [
    "%pip install nebula3-python"
   ]
  },
  {
   "cell_type": "markdown",
   "metadata": {},
   "source": [
    "Now connect to the Nebula Graph service by **ConnectionPool**:"
   ]
  },
  {
   "cell_type": "code",
   "execution_count": 2,
   "metadata": {},
   "outputs": [],
   "source": [
    "# Default parameters\n",
    "SERVER = \"127.0.0.1\"\n",
    "PORT = 9669\n",
    "USER = \"root\"\n",
    "PASSWORD = \"nebula\""
   ]
  },
  {
   "cell_type": "code",
   "execution_count": 5,
   "metadata": {},
   "outputs": [],
   "source": [
    "import time\n",
    "from nebula3.gclient.net import ConnectionPool\n",
    "from nebula3.Config import Config\n",
    "\n",
    "connection_pool = ConnectionPool()\n",
    "# if the given servers are ok, return true, else return false\n",
    "connection_pool.init([(SERVER, PORT)], Config())\n",
    "# get a session with session_context, session will be released automatically\n",
    "with connection_pool.session_context(USER, PASSWORD) as session:\n",
    "    # Create the space\n",
    "    session.execute_py(\"CREATE SPACE IF NOT EXISTS test(vid_type=FIXED_STRING(30));\")\n",
    "    time.sleep(20)  # two cycles of heartbeat, by default of a NebulaGraph cluster, we will need to sleep 20s\n",
    "    # Create the schema\n",
    "    session.execute_py(\n",
    "        \"USE test;\"\n",
    "        \"CREATE TAG IF NOT EXISTS person(name string, age int);\"\n",
    "        \"CREATE EDGE IF NOT EXISTS like (likeness double);\"\n",
    "    )\n",
    "    time.sleep(20)  # two cycles of heartbeat, by default of a NebulaGraph cluster, we will need to sleep 20s\n",
    "    # Clear the space if it exists\n",
    "    session.execute_py(\"CLEAR SPACE test;\")\n",
    "    # Run queries with parameters\n",
    "    args1 = {\n",
    "        \"p1\": 3,\n",
    "        \"p2\": True,\n",
    "        \"p3\": \"Bob\",\n",
    "    }\n",
    "    stmt1 = \"RETURN abs($p1)+3 AS col1, (toBoolean($p2) and false) AS col2, toLower($p3)+1 AS col3\"\n",
    "    res1 = session.execute_py(stmt1, args1)\n",
    "    args2 = {\n",
    "        \"name1\": \"Bob\",\n",
    "        \"age1\": 10,\n",
    "        \"name2\": \"Lily\",\n",
    "        \"age2\": 9,\n",
    "        \"people\": [\"Bob\", \"Lily\"],\n",
    "    }\n",
    "    session.execute_py(\n",
    "        \"INSERT VERTEX person(name, age) VALUES 'Bob':($name1, $age1), 'Lily':($name2, $age2)\", \n",
    "        args2\n",
    "    )\n",
    "    stmt2 = \"MATCH (v) WHERE id(v) in $people RETURN id(v) AS vertex_id\"\n",
    "    res2 = session.execute_py(stmt2, args2)\n",
    "\n",
    "connection_pool.close()"
   ]
  },
  {
   "cell_type": "markdown",
   "metadata": {},
   "source": [
    "Explore the results of the query:"
   ]
  },
  {
   "cell_type": "code",
   "execution_count": 5,
   "metadata": {},
   "outputs": [
    {
     "data": {
      "text/html": [
       "<div>\n",
       "<style scoped>\n",
       "    .dataframe tbody tr th:only-of-type {\n",
       "        vertical-align: middle;\n",
       "    }\n",
       "\n",
       "    .dataframe tbody tr th {\n",
       "        vertical-align: top;\n",
       "    }\n",
       "\n",
       "    .dataframe thead th {\n",
       "        text-align: right;\n",
       "    }\n",
       "</style>\n",
       "<table border=\"1\" class=\"dataframe\">\n",
       "  <thead>\n",
       "    <tr style=\"text-align: right;\">\n",
       "      <th></th>\n",
       "      <th>col1</th>\n",
       "      <th>col2</th>\n",
       "      <th>col3</th>\n",
       "    </tr>\n",
       "  </thead>\n",
       "  <tbody>\n",
       "    <tr>\n",
       "      <th>0</th>\n",
       "      <td>6</td>\n",
       "      <td>False</td>\n",
       "      <td>bob1</td>\n",
       "    </tr>\n",
       "  </tbody>\n",
       "</table>\n",
       "</div>"
      ],
      "text/plain": [
       "   col1   col2  col3\n",
       "0     6  False  bob1"
      ]
     },
     "execution_count": 5,
     "metadata": {},
     "output_type": "execute_result"
    }
   ],
   "source": [
    "res1.as_data_frame()"
   ]
  },
  {
   "cell_type": "code",
   "execution_count": 7,
   "metadata": {},
   "outputs": [
    {
     "data": {
      "text/html": [
       "<div>\n",
       "<style scoped>\n",
       "    .dataframe tbody tr th:only-of-type {\n",
       "        vertical-align: middle;\n",
       "    }\n",
       "\n",
       "    .dataframe tbody tr th {\n",
       "        vertical-align: top;\n",
       "    }\n",
       "\n",
       "    .dataframe thead th {\n",
       "        text-align: right;\n",
       "    }\n",
       "</style>\n",
       "<table border=\"1\" class=\"dataframe\">\n",
       "  <thead>\n",
       "    <tr style=\"text-align: right;\">\n",
       "      <th></th>\n",
       "      <th>vertex_id</th>\n",
       "    </tr>\n",
       "  </thead>\n",
       "  <tbody>\n",
       "    <tr>\n",
       "      <th>0</th>\n",
       "      <td>Lily</td>\n",
       "    </tr>\n",
       "    <tr>\n",
       "      <th>1</th>\n",
       "      <td>Bob</td>\n",
       "    </tr>\n",
       "  </tbody>\n",
       "</table>\n",
       "</div>"
      ],
      "text/plain": [
       "  vertex_id\n",
       "0      Lily\n",
       "1       Bob"
      ]
     },
     "execution_count": 7,
     "metadata": {},
     "output_type": "execute_result"
    }
   ],
   "source": [
    "res2.as_data_frame()"
   ]
  },
  {
   "cell_type": "code",
   "execution_count": 8,
   "metadata": {},
   "outputs": [
    {
     "data": {
      "text/plain": [
       "[{'col1': 6, 'col2': False, 'col3': 'bob1'}]"
      ]
     },
     "execution_count": 8,
     "metadata": {},
     "output_type": "execute_result"
    }
   ],
   "source": [
    "res1.as_primitive()"
   ]
  },
  {
   "cell_type": "code",
   "execution_count": 9,
   "metadata": {},
   "outputs": [
    {
     "data": {
      "text/plain": [
       "[{'vertex_id': 'Lily'}, {'vertex_id': 'Bob'}]"
      ]
     },
     "execution_count": 9,
     "metadata": {},
     "output_type": "execute_result"
    }
   ],
   "source": [
    "res2.as_primitive()"
   ]
  },
  {
   "cell_type": "markdown",
   "metadata": {},
   "source": [
    "If the space is already created, you can connect to a specific space by **SessionPool**:"
   ]
  },
  {
   "cell_type": "code",
   "execution_count": 6,
   "metadata": {},
   "outputs": [],
   "source": [
    "from nebula3.gclient.net.SessionPool import SessionPool\n",
    "from nebula3.Config import SessionPoolConfig\n",
    "\n",
    "session_pool = SessionPool(\n",
    "    username=USER,\n",
    "    password=PASSWORD,\n",
    "    space_name=\"test\",\n",
    "    addresses=[(SERVER, PORT)]\n",
    "    )\n",
    "session_pool.init(SessionPoolConfig())\n",
    "res3 = session_pool.execute_py(\"MATCH (v) RETURN v\")"
   ]
  },
  {
   "cell_type": "code",
   "execution_count": 7,
   "metadata": {},
   "outputs": [
    {
     "data": {
      "text/html": [
       "<div>\n",
       "<style scoped>\n",
       "    .dataframe tbody tr th:only-of-type {\n",
       "        vertical-align: middle;\n",
       "    }\n",
       "\n",
       "    .dataframe tbody tr th {\n",
       "        vertical-align: top;\n",
       "    }\n",
       "\n",
       "    .dataframe thead th {\n",
       "        text-align: right;\n",
       "    }\n",
       "</style>\n",
       "<table border=\"1\" class=\"dataframe\">\n",
       "  <thead>\n",
       "    <tr style=\"text-align: right;\">\n",
       "      <th></th>\n",
       "      <th>v</th>\n",
       "    </tr>\n",
       "  </thead>\n",
       "  <tbody>\n",
       "    <tr>\n",
       "      <th>0</th>\n",
       "      <td>{'vid': 'Bob', 'tags': {'person': {'age': 10, ...</td>\n",
       "    </tr>\n",
       "    <tr>\n",
       "      <th>1</th>\n",
       "      <td>{'vid': 'Lily', 'tags': {'person': {'age': 9, ...</td>\n",
       "    </tr>\n",
       "  </tbody>\n",
       "</table>\n",
       "</div>"
      ],
      "text/plain": [
       "                                                   v\n",
       "0  {'vid': 'Bob', 'tags': {'person': {'age': 10, ...\n",
       "1  {'vid': 'Lily', 'tags': {'person': {'age': 9, ..."
      ]
     },
     "execution_count": 7,
     "metadata": {},
     "output_type": "execute_result"
    }
   ],
   "source": [
    "res3.as_data_frame()"
   ]
  },
  {
   "cell_type": "code",
   "execution_count": 8,
   "metadata": {},
   "outputs": [
    {
     "data": {
      "text/plain": [
       "[{'v': {'vid': 'Bob', 'tags': {'person': {'age': 10, 'name': \"Bob\"}}}},\n",
       " {'v': {'vid': 'Lily', 'tags': {'person': {'age': 9, 'name': \"Lily\"}}}}]"
      ]
     },
     "execution_count": 8,
     "metadata": {},
     "output_type": "execute_result"
    }
   ],
   "source": [
    "res3.as_primitive()"
   ]
  }
 ],
 "metadata": {
  "kernelspec": {
   "display_name": "yanli_nebula_python_312",
   "language": "python",
   "name": "python3"
  },
  "language_info": {
   "codemirror_mode": {
    "name": "ipython",
    "version": 3
   },
   "file_extension": ".py",
   "mimetype": "text/x-python",
   "name": "python",
   "nbconvert_exporter": "python",
   "pygments_lexer": "ipython3",
   "version": "3.12.3"
  }
 },
 "nbformat": 4,
 "nbformat_minor": 2
}
